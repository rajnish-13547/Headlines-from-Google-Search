{
  "nbformat": 4,
  "nbformat_minor": 0,
  "metadata": {
    "colab": {
      "name": "Untitled1.ipynb",
      "version": "0.3.2",
      "provenance": [],
      "collapsed_sections": []
    },
    "kernelspec": {
      "name": "python3",
      "display_name": "Python 3"
    }
  },
  "cells": [
    {
      "metadata": {
        "id": "DaSYvCjXbvDE",
        "colab_type": "text"
      },
      "cell_type": "markdown",
      "source": [
        "##Setting-Up"
      ]
    },
    {
      "metadata": {
        "id": "rGURywY0hSmI",
        "colab_type": "code",
        "outputId": "1c02650a-a2c5-48a0-c623-8c06cac33144",
        "colab": {
          "base_uri": "https://localhost:8080/",
          "height": 187
        }
      },
      "cell_type": "code",
      "source": [
        "!pip install beautifulsoup4\n",
        "!pip install lxml html5lib requests\n",
        "\n",
        "from bs4 import BeautifulSoup\n",
        "import requests\n",
        "import pandas as pd\n",
        "import datetime\n",
        "from datetime import time, date, timedelta, datetime"
      ],
      "execution_count": 74,
      "outputs": [
        {
          "output_type": "stream",
          "text": [
            "Requirement already satisfied: beautifulsoup4 in /usr/local/lib/python3.6/dist-packages (4.6.3)\n",
            "Requirement already satisfied: lxml in /usr/local/lib/python3.6/dist-packages (4.2.6)\n",
            "Requirement already satisfied: html5lib in /usr/local/lib/python3.6/dist-packages (1.0.1)\n",
            "Requirement already satisfied: requests in /usr/local/lib/python3.6/dist-packages (2.18.4)\n",
            "Requirement already satisfied: six>=1.9 in /usr/local/lib/python3.6/dist-packages (from html5lib) (1.11.0)\n",
            "Requirement already satisfied: webencodings in /usr/local/lib/python3.6/dist-packages (from html5lib) (0.5.1)\n",
            "Requirement already satisfied: urllib3<1.23,>=1.21.1 in /usr/local/lib/python3.6/dist-packages (from requests) (1.22)\n",
            "Requirement already satisfied: idna<2.7,>=2.5 in /usr/local/lib/python3.6/dist-packages (from requests) (2.6)\n",
            "Requirement already satisfied: certifi>=2017.4.17 in /usr/local/lib/python3.6/dist-packages (from requests) (2019.3.9)\n",
            "Requirement already satisfied: chardet<3.1.0,>=3.0.2 in /usr/local/lib/python3.6/dist-packages (from requests) (3.0.4)\n"
          ],
          "name": "stdout"
        }
      ]
    },
    {
      "metadata": {
        "id": "FiDjF1n9b1vX",
        "colab_type": "text"
      },
      "cell_type": "markdown",
      "source": [
        "##Getting Google-search URL\n",
        "####(for Requests and BS4 later)"
      ]
    },
    {
      "metadata": {
        "id": "REQJQaT6v2OC",
        "colab_type": "code",
        "colab": {}
      },
      "cell_type": "code",
      "source": [
        "#basic part of google search\n",
        "def basic():\n",
        "  return 'https://www.google.co.in/search?'"
      ],
      "execution_count": 0,
      "outputs": []
    },
    {
      "metadata": {
        "id": "5vnCiCH5U6rw",
        "colab_type": "code",
        "colab": {}
      },
      "cell_type": "code",
      "source": [
        "#To add + between whitespaces\n",
        "def get_string(search_string):\n",
        "  \n",
        "  value = search_string.split(' ')\n",
        "  string = ''\n",
        "  for word in value:\n",
        "    if len(string)==0: string = word\n",
        "    else: string = string + '+'+str(word)\n",
        "  \n",
        "  return string"
      ],
      "execution_count": 0,
      "outputs": []
    },
    {
      "metadata": {
        "id": "c2qf9CxWxj9W",
        "colab_type": "code",
        "colab": {}
      },
      "cell_type": "code",
      "source": [
        "#Q parameter ie. query in google search\n",
        "def q_parameter():\n",
        "  base = 'q='+get_string(search_string)\n",
        "  return base"
      ],
      "execution_count": 0,
      "outputs": []
    },
    {
      "metadata": {
        "id": "LKNeWafYthsN",
        "colab_type": "code",
        "colab": {}
      },
      "cell_type": "code",
      "source": [
        "#Detects if there is any quotes (\"\") or not\n",
        "def quotes_or_not(search_string):\n",
        "  value = search_string.split('\"')[0]\n",
        "  \n",
        "  return_string = ''\n",
        "  \n",
        "  if value != search_string: \n",
        "    return_string = '&oq='\n",
        "    return_string += get_string(search_string)\n",
        "    \n",
        "  return return_string"
      ],
      "execution_count": 0,
      "outputs": []
    },
    {
      "metadata": {
        "id": "y8qCzYhyg4M7",
        "colab_type": "code",
        "colab": {}
      },
      "cell_type": "code",
      "source": [
        "#Choose a function:\n",
        "def function_choose():\n",
        "  \n",
        "  print('Choose a function:\\n 1. Custom Date-Range -> 1\\n 2. Common date functions -> 2\\n 3. Verbatim -> 3\\n 4. None -> 0')\n",
        "\n",
        "  valid_values = [0,1,2,3]\n",
        "  while True:\n",
        "    try:\n",
        "      func_num = int(input('Please enter one/two/three: '))\n",
        "      if func_num not in valid_values: raise ValueError\n",
        "    except ValueError:\n",
        "      print('Invalid Value! Please enter only one two or three!')\n",
        "    else: break\n",
        "  \n",
        "  return func_num"
      ],
      "execution_count": 0,
      "outputs": []
    },
    {
      "metadata": {
        "id": "Ltic_Wcv94yk",
        "colab_type": "code",
        "colab": {}
      },
      "cell_type": "code",
      "source": [
        "#Prompt input till user enters valid date\n",
        "def get_valid_dates():\n",
        "  while True:\n",
        "    try:\n",
        "      start_date_day = input('Enter day of starting date: ')\n",
        "      start_date_month = input('Enter month of starting date: ')\n",
        "      start_date_year = input('Enter year of starting date: ')\n",
        "      start_date = datetime(int(start_date_year),int(start_date_month),int(start_date_day))\n",
        "    except ValueError:\n",
        "      print('Invalid starting Date!')\n",
        "    else: break\n",
        "  \n",
        "  while True:\n",
        "    try:\n",
        "      end_date_day = input('Enter day of ending date: ')\n",
        "      end_date_month = input('Enter month of ending date: ')\n",
        "      end_date_year = input('Enter year of ending date: ')\n",
        "      end_date = datetime(int(end_date_year),int(end_date_month),int(end_date_day))\n",
        "    except ValueError:\n",
        "      print('Invalid ending Date!')\n",
        "    else: break\n",
        "  #When start date comes after end-date  \n",
        "  if start_date-end_date > timedelta(0):\n",
        "    temp1 = start_date\n",
        "    start_date = end_date\n",
        "    end_date = temp1\n",
        "    print('Swapping start date and end date, as end date came before start date!')\n",
        "  return start_date,end_date"
      ],
      "execution_count": 0,
      "outputs": []
    },
    {
      "metadata": {
        "id": "AWguJudNdT8H",
        "colab_type": "code",
        "colab": {}
      },
      "cell_type": "code",
      "source": [
        "#Function to add string to URL in case of custom range\n",
        "def custom_range(start_date,end_date):\n",
        "  base_string = '%2Ccd_min%3A'+str(start_date.month)+'%2F'+str(start_date.day)+'%2F'+str(start_date.year)\n",
        "  \n",
        "  base_string+= '%2Ccd_max%3A'+str(end_date.month)+'%2F'+str(end_date.day)+'%2F'+str(end_date.year)\n",
        "  \n",
        "  return base_string"
      ],
      "execution_count": 0,
      "outputs": []
    },
    {
      "metadata": {
        "id": "lg0RNFZ7Qglv",
        "colab_type": "code",
        "colab": {}
      },
      "cell_type": "code",
      "source": [
        "#Function to add string to URL in case of common past function\n",
        "def get_common_string():\n",
        "  value1 = ['h','d','w','m','y']\n",
        "  \n",
        "  while True:\n",
        "    print('#Function Lists:\\n--------------------------------------\\n')\n",
        "    print(\"1. Day-based functions(past day etc.) -> 'd'\")\n",
        "    print(\"2. Week-based functions(past week etc.) -> 'w'\")\n",
        "    print(\"3. Month-based functions(past month etc.) -> 'm'\")\n",
        "    print(\"4. Year-based functions(past year etc.) -> 'y'\")\n",
        "    print(\"5. Hour-based functions(past hour etc.) -> 'h'\")\n",
        "    try:\n",
        "      \n",
        "      value1_in = input('Enter d/m/w/y: ').lower()\n",
        "      \n",
        "      if value1_in not in value1: raise ValueError\n",
        "      \n",
        "    except ValueError:\n",
        "      print('Please enter only d, w, m or y! (Caps allowed)')\n",
        "      \n",
        "    else: break\n",
        "        \n",
        "  value2 = [0,1]\n",
        "  while True:\n",
        "    try:\n",
        "      print('\\n#Function Lists:\\n--------------------------------------\\n')\n",
        "      print(\"1. For simple functions(past day, past hour etc.) -> 0\")\n",
        "      print(\"2. For custom functions(past 4 days, 3 months etc.) -> 1\")\n",
        "      \n",
        "      value2_in = int(input('Enter 0/1: '))\n",
        "      \n",
        "      if value2_in not in value2: raise ValueError\n",
        "      \n",
        "    except ValueError:\n",
        "      print('Please enter only 0 or 1!')\n",
        "    else: break\n",
        "  \n",
        "  integer= ''\n",
        "  if value2_in == 1:\n",
        "    while True:\n",
        "      try:\n",
        "        integer = str(int(input('No. of days/hours/ ... etc.,(eg. for 5 months enter 5) : ')))\n",
        "      except ValueError:\n",
        "        print('Invalid value entered.')\n",
        "      else: break\n",
        "  \n",
        "  return str(value1_in+integer)"
      ],
      "execution_count": 0,
      "outputs": []
    },
    {
      "metadata": {
        "id": "PjkQOYqgW5HJ",
        "colab_type": "code",
        "colab": {}
      },
      "cell_type": "code",
      "source": [
        "#Completely forms the URL, using string addition\n",
        "def get_URL(search_string):\n",
        "  \n",
        "  base = basic()+q_parameter()+quotes_or_not(search_string)\n",
        "  xtra_string = ''\n",
        "  flag = function_choose()\n",
        "  \n",
        "  if flag ==1:\n",
        "    start_date, end_date = get_valid_dates()\n",
        "    custom_range_string = 'cdr%3A1'+custom_range(start_date,end_date)\n",
        "    xtra_string += custom_range_string\n",
        "  \n",
        "  if flag ==2:\n",
        "    common_function_string = 'qdr:'+get_common_string()\n",
        "    xtra_string += common_function_string\n",
        "    \n",
        "  if flag == 3:\n",
        "    verbatim_string = 'li:1'\n",
        "    xtra_string += verbatim_string\n",
        "  \n",
        "  if len(xtra_string) !=0:\n",
        "    xtra_string = '&tbs='+ xtra_string\n",
        "    \n",
        "  base += xtra_string\n",
        "  \n",
        "  return base"
      ],
      "execution_count": 0,
      "outputs": []
    },
    {
      "metadata": {
        "id": "hNXUW-8mcmKM",
        "colab_type": "text"
      },
      "cell_type": "markdown",
      "source": [
        "###User-input"
      ]
    },
    {
      "metadata": {
        "id": "XOTPZ2_XY7dc",
        "colab_type": "code",
        "outputId": "16c44d34-03bb-4e94-ff14-16dc985d33a0",
        "colab": {
          "base_uri": "https://localhost:8080/",
          "height": 408
        }
      },
      "cell_type": "code",
      "source": [
        "#User input\n",
        "search_string = input()\n",
        "URL = get_URL(search_string)"
      ],
      "execution_count": 99,
      "outputs": [
        {
          "output_type": "stream",
          "text": [
            "Narendra Modi\n",
            "Choose a function:\n",
            " 1. Custom Date-Range -> 1\n",
            " 2. Common date functions -> 2\n",
            " 3. Verbatim -> 3\n",
            " 4. None -> 0\n",
            "Please enter one/two/three: 2\n",
            "#Function Lists:\n",
            "--------------------------------------\n",
            "\n",
            "1. Day-based functions(past day etc.) -> 'd'\n",
            "2. Week-based functions(past week etc.) -> 'w'\n",
            "3. Month-based functions(past month etc.) -> 'm'\n",
            "4. Year-based functions(past year etc.) -> 'y'\n",
            "5. Hour-based functions(past hour etc.) -> 'h'\n",
            "Enter d/m/w/y: y\n",
            "\n",
            "#Function Lists:\n",
            "--------------------------------------\n",
            "\n",
            "1. For simple functions(past day, past hour etc.) -> 0\n",
            "2. For custom functions(past 4 days, 3 months etc.) -> 1\n",
            "Enter 0/1: 0\n"
          ],
          "name": "stdout"
        }
      ]
    },
    {
      "metadata": {
        "id": "bKb89RLKcHWK",
        "colab_type": "text"
      },
      "cell_type": "markdown",
      "source": [
        "## Requests + BeautifulSoup BS4 operations"
      ]
    },
    {
      "metadata": {
        "id": "8_fpa0Qg2D3a",
        "colab_type": "code",
        "colab": {}
      },
      "cell_type": "code",
      "source": [
        "#uses BS4 functions to extract valuable data\n",
        "def html_parse(URL, keyword):  \n",
        "  source = requests.get(URL) \n",
        "  soup = BeautifulSoup(source.text,'html.parser')\n",
        "\n",
        "  all_results = soup.find_all('div', attrs={'class': 'g'})#For each part/article on search\n",
        "  \n",
        "  rank =1 #Search Rank\n",
        "  \n",
        "  #For CSV\n",
        "  title_val = []\n",
        "  keyword_val = []\n",
        "  rank_val = []\n",
        "  description_val = []\n",
        "  link_val = []\n",
        "  \n",
        "  #Appending results to arrays\n",
        "  for result in all_results:\n",
        "    title = result.find('h3')\n",
        "    link = result.find('a',href=True)\n",
        "    \n",
        "    description = result.find('span', attrs={'class': 'st'})\n",
        "    \n",
        "    if link and title:\n",
        "      link = link['href']\n",
        "      title = title.get_text()\n",
        "      if description: description = description.get_text()\n",
        "      if link != '#':\n",
        "        title_val.append(title)\n",
        "        keyword_val.append(keyword)\n",
        "        rank_val.append(rank)\n",
        "        description_val.append(description)\n",
        "        link_val.append(link)\n",
        "        rank += 1\n",
        "  #Forming dataframe to for proper format\n",
        "  found_results = pd.DataFrame({'Title': title_val,\n",
        "                                'Rank': rank_val,\n",
        "                                'Link': link_val,\n",
        "                                'Keyword': keyword_val,\n",
        "                                'Description': description_val\n",
        "                               })\n",
        "  return found_results\n",
        "    \n"
      ],
      "execution_count": 0,
      "outputs": []
    },
    {
      "metadata": {
        "id": "6PEcuAzAsUAH",
        "colab_type": "code",
        "colab": {}
      },
      "cell_type": "code",
      "source": [
        "full_data = html_parse(URL,search_string)"
      ],
      "execution_count": 0,
      "outputs": []
    },
    {
      "metadata": {
        "id": "-yrjRj4yDw9y",
        "colab_type": "code",
        "colab": {}
      },
      "cell_type": "code",
      "source": [
        "#Create and write CSV file\n",
        "name = 'Headlines'+' of '+'_'+search_string+'_'+'.csv'\n",
        "out = full_data.to_csv(name)"
      ],
      "execution_count": 0,
      "outputs": []
    },
    {
      "metadata": {
        "id": "vex4i13r8JAr",
        "colab_type": "code",
        "colab": {}
      },
      "cell_type": "code",
      "source": [
        "#Download File from colab\n",
        "from google.colab import files\n",
        "files.download(name)"
      ],
      "execution_count": 0,
      "outputs": []
    }
  ]
}